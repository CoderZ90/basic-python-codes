{
 "cells": [
  {
   "cell_type": "code",
   "execution_count": 1,
   "metadata": {},
   "outputs": [
    {
     "name": "stdout",
     "output_type": "stream",
     "text": [
      "The average of numbers = 2.60\n"
     ]
    }
   ],
   "source": [
    "# Program One - Calculating the average of the numbers\n",
    "# take inputs\n",
    "# (a+b+c+d+e)/5 = (2+5+8+2+3)/5 = 20/5 = 4\n",
    "num1 = float(input('Enter first number: '))\n",
    "num2 = float(input('Enter second number: '))\n",
    "num3 = float(input('Enter third number: '))\n",
    "num4 = float(input('Enter four number: '))\n",
    "num5 = float(input('Enter fifth number: '))\n",
    "\n",
    "# calculate average\n",
    "avg = (num1 + num2 + num3 + num4 + num5) / 5\n",
    "\n",
    "# print average value\n",
    "print('The average of numbers = %0.2f' %avg)"
   ]
  },
  {
   "cell_type": "code",
   "execution_count": 2,
   "metadata": {},
   "outputs": [
    {
     "name": "stdout",
     "output_type": "stream",
     "text": [
      "Area of a circle = 12.56\n"
     ]
    }
   ],
   "source": [
    "# Calculating Area & Circumference of circle \n",
    "\n",
    "PI = 3.14\n",
    "r = float(input(\"Enter the radius of a circle:\"))\n",
    "area = PI * r * r\n",
    "print(\"Area of a circle = %.2f\" %area)"
   ]
  },
  {
   "cell_type": "code",
   "execution_count": null,
   "metadata": {},
   "outputs": [
    {
     "name": "stdout",
     "output_type": "stream",
     "text": [
      "( 4 + 8 )**2 = 144\n"
     ]
    }
   ],
   "source": [
    "# Calculating (a+b) whole square\n",
    "\n",
    "a = int(input(\"enter first number \"))\n",
    "b = int(input (\"enter second number \"))\n",
    "formula = (a**2 + b**2 + 2*a*b)\n",
    "print(\"(\" , a ,\"+\" , b , \")**2 =\" , formula)"
   ]
  },
  {
   "cell_type": "code",
   "execution_count": null,
   "metadata": {},
   "outputs": [
    {
     "name": "stdout",
     "output_type": "stream",
     "text": [
      "Congrats 🥳 You are Eligible to Vote\n"
     ]
    }
   ],
   "source": [
    "# write a program to input a age of a person and print if the person is eligible for vote\n",
    "# getting input \n",
    "age = int(input(\"Enter your age: \"))\n",
    "# if-else statement \n",
    "if (age >= 18): \n",
    "\tprint(\"Congrats 🥳 You are Eligible to Vote\") \n",
    "else: \n",
    "\tprint(\"Sorry but you cannot vote your age is less than 18.\")"
   ]
  }
 ],
 "metadata": {
  "interpreter": {
   "hash": "9e686dfef1d5503a27ec8aa774200608216346dd535d465366844c24c4bba384"
  },
  "kernelspec": {
   "display_name": "Python 3.9.5 64-bit",
   "language": "python",
   "name": "python3"
  },
  "language_info": {
   "codemirror_mode": {
    "name": "ipython",
    "version": 3
   },
   "file_extension": ".py",
   "mimetype": "text/x-python",
   "name": "python",
   "nbconvert_exporter": "python",
   "pygments_lexer": "ipython3",
   "version": "3.9.5"
  },
  "orig_nbformat": 4
 },
 "nbformat": 4,
 "nbformat_minor": 2
}
